{
 "cells": [
  {
   "cell_type": "code",
   "execution_count": null,
   "metadata": {},
   "outputs": [],
   "source": [
    "import position_communities  # eigenes Skript\n",
    "\n",
    "import networkx as nx\n",
    "from csv import reader\n",
    "import matplotlib.pyplot as plt\n",
    "from statistics import median\n",
    "from collections import Counter\n",
    "from community import best_partition\n",
    "import itertools"
   ]
  },
  {
   "cell_type": "code",
   "execution_count": null,
   "metadata": {},
   "outputs": [],
   "source": [
    "with open('nodes.csv', 'r') as f:\n",
    "    r = reader(f)\n",
    "    nodes = [n[0] for n in r]\n",
    "\n",
    "with open('edges.csv', 'r') as f:\n",
    "    r = reader(f)\n",
    "    edges_with_tags = list(r)"
   ]
  },
  {
   "cell_type": "code",
   "execution_count": null,
   "metadata": {},
   "outputs": [],
   "source": [
    "mdg = nx.MultiDiGraph()\n",
    "mdg.add_nodes_from(nodes)\n",
    "for tup in edges_with_tags:\n",
    "    src,dest = tup[:2]\n",
    "    tags = tup[2:]\n",
    "    mdg.add_edge(src, dest, tags=tags)  # Kanten bekommen die Tags der Frage zugewiesen\n",
    "mdg.remove_nodes_from(list(nx.isolates(mdg)))  # Nutzer entfernen, die keine Fragen/Antworten gepostet haben\n",
    "g = nx.Graph(mdg)  # Für Algos, die einen einfachen ungerichteten Graphen benötigen"
   ]
  },
  {
   "cell_type": "code",
   "execution_count": null,
   "metadata": {},
   "outputs": [],
   "source": [
    "print(len(mdg.nodes))\n",
    "print(len(mdg.edges))"
   ]
  },
  {
   "cell_type": "code",
   "execution_count": null,
   "metadata": {},
   "outputs": [],
   "source": [
    "components = sorted(nx.connected_components(g), key=len, reverse=True)\n",
    "big_component = components[0]\n",
    "print(len(components))\n",
    "print(len(big_component))  # Eine riesige Komponente\n",
    "len(components[1])  # Alle anderen sind winzig, können ignoriert werden"
   ]
  },
  {
   "cell_type": "code",
   "execution_count": null,
   "metadata": {
    "scrolled": false
   },
   "outputs": [],
   "source": [
    "connected_mdg = nx.subgraph(mdg, big_component)\n",
    "connected_g = nx.Graph(connected_mdg)\n",
    "# nx.diameter(subg)  # lange Laufzeit"
   ]
  },
  {
   "cell_type": "code",
   "execution_count": null,
   "metadata": {},
   "outputs": [],
   "source": [
    "partition = best_partition(connected_g)  # Partitionierung mit der größten Modularity\n",
    "communities = {}\n",
    "for node, community in partition.items():\n",
    "    if community in communities:\n",
    "        communities[community].add(node)\n",
    "    else:\n",
    "        communities[community] = {node}"
   ]
  },
  {
   "cell_type": "code",
   "execution_count": null,
   "metadata": {},
   "outputs": [],
   "source": [
    "bigcomm_nodes = [nodes for community, nodes in communities.items() if len(nodes) >= 10]\n",
    "bigcomm_nodes = list(itertools.chain(*bigcomm_nodes))  # flatten\n",
    "\n",
    "bigcomm_mdg = nx.subgraph(connected_mdg, bigcomm_nodes)\n",
    "bigcomm_g = nx.subgraph(connected_g, bigcomm_nodes)"
   ]
  },
  {
   "cell_type": "code",
   "execution_count": null,
   "metadata": {
    "scrolled": true
   },
   "outputs": [],
   "source": [
    "def tag_frequency(graph):  # Was sind die häufigsten Tags in einem Graphen?\n",
    "    all_tags = []\n",
    "    for src, dest in graph.edges():\n",
    "        all_tags += graph[src][dest]['tags']\n",
    "    tag_count = Counter(all_tags).most_common()\n",
    "    tag_frequency = [(tag, count / len(all_tags)) for tag, count in tag_count]\n",
    "    return tag_frequency"
   ]
  },
  {
   "cell_type": "code",
   "execution_count": null,
   "metadata": {
    "scrolled": true
   },
   "outputs": [],
   "source": [
    "tag_frequency(g)[:10]"
   ]
  },
  {
   "cell_type": "code",
   "execution_count": null,
   "metadata": {},
   "outputs": [],
   "source": [
    "sorted_ans_degrees = sorted(dict(mdg.out_degree()).items(), key=lambda x: x[1], reverse=True)"
   ]
  },
  {
   "cell_type": "code",
   "execution_count": null,
   "metadata": {},
   "outputs": [],
   "source": [
    "sorted_qu_degrees = sorted(dict(mdg.in_degree()).items(), key=lambda x: x[1], reverse=True)"
   ]
  },
  {
   "cell_type": "code",
   "execution_count": null,
   "metadata": {},
   "outputs": [],
   "source": [
    "sorted_ans_degrees[:5]  # Nutzer mit den meisten Antworten"
   ]
  },
  {
   "cell_type": "code",
   "execution_count": null,
   "metadata": {},
   "outputs": [],
   "source": [
    "sorted_qu_degrees[:5]  # Nutzer, die die meisten Antworten bekommen haben"
   ]
  },
  {
   "cell_type": "code",
   "execution_count": null,
   "metadata": {},
   "outputs": [],
   "source": [
    "med_ans_degree = median([d for n,d in mdg.out_degree()])\n",
    "med_ans_degree"
   ]
  },
  {
   "cell_type": "code",
   "execution_count": null,
   "metadata": {},
   "outputs": [],
   "source": [
    "med_qu_degree = median([d for n,d in mdg.in_degree()])\n",
    "med_qu_degree  # Die meisten Nutzer registrieren sich nur, um eine Frage/Antwort zu geben"
   ]
  },
  {
   "cell_type": "code",
   "execution_count": null,
   "metadata": {},
   "outputs": [],
   "source": [
    "Counter([d for n,d in mdg.out_degree()])  # Verteilung der Nutzer, die x Antworten gegeben haben, könnte man plotten"
   ]
  },
  {
   "cell_type": "code",
   "execution_count": null,
   "metadata": {},
   "outputs": [],
   "source": [
    "ans_dict = dict(mdg.out_degree())\n",
    "items = list(ans_dict.items())\n",
    "users_who_never_answer = {user for user, degree in items if degree == 0}\n",
    "len(users_who_never_answer)"
   ]
  },
  {
   "cell_type": "code",
   "execution_count": null,
   "metadata": {},
   "outputs": [],
   "source": [
    "q_dict = dict(mdg.in_degree())\n",
    "items = list(q_dict.items())\n",
    "users_who_never_ask = {user for user, degree in items if degree == 0}\n",
    "len(users_who_never_ask)"
   ]
  },
  {
   "cell_type": "code",
   "execution_count": null,
   "metadata": {},
   "outputs": [],
   "source": [
    "casual_users = users_who_never_answer.union(users_who_never_ask)\n",
    "core_users = set(mdg.nodes).difference(casual_users)\n",
    "len(core_users)"
   ]
  },
  {
   "cell_type": "code",
   "execution_count": null,
   "metadata": {},
   "outputs": [],
   "source": [
    "core_user_graph = nx.subgraph(mdg, core_users)\n",
    "len(core_user_graph.edges)  # Antworten unter Cores"
   ]
  },
  {
   "cell_type": "code",
   "execution_count": null,
   "metadata": {},
   "outputs": [],
   "source": [
    "casual_user_graph = nx.subgraph(mdg, casual_users)\n",
    "len(casual_user_graph.edges)  # Antworten unter Casuals"
   ]
  },
  {
   "cell_type": "code",
   "execution_count": null,
   "metadata": {},
   "outputs": [],
   "source": [
    "users_who_answer = core_users.union(users_who_never_ask)\n",
    "answer_user_graph = nx.subgraph(mdg, users_who_answer)\n",
    "len(answer_user_graph.edges) - len(core_user_graph.edges)  # Antworten von Casuals an Cores"
   ]
  },
  {
   "cell_type": "code",
   "execution_count": null,
   "metadata": {},
   "outputs": [],
   "source": [
    "users_who_ask = core_users.union(users_who_never_answer)\n",
    "ask_user_graph = nx.subgraph(mdg, users_who_ask)\n",
    "len(ask_user_graph.edges) - len(core_user_graph.edges)  # Antworten von Cores an Casuals"
   ]
  },
  {
   "cell_type": "markdown",
   "metadata": {},
   "source": [
    "![](bowtie.png)\n",
    "Core and Casual user graph (simplified, to scale)"
   ]
  },
  {
   "cell_type": "code",
   "execution_count": null,
   "metadata": {},
   "outputs": [],
   "source": [
    "# sagt im Moment nicht viel aus\n",
    "user_degrees = [(mdg.out_degree([n])[n], mdg.in_degree([n])[n]) for n in mdg.nodes]\n",
    "ratios = [(t[0] or 1) / (t[1] or 1) for t in user_degrees]\n",
    "sorted(ratios, reverse=True)"
   ]
  },
  {
   "cell_type": "code",
   "execution_count": null,
   "metadata": {},
   "outputs": [],
   "source": [
    "# sagt im Moment nicht viel aus\n",
    "sorted(ratios)"
   ]
  },
  {
   "cell_type": "markdown",
   "metadata": {},
   "source": [
    "# Drawing"
   ]
  },
  {
   "cell_type": "code",
   "execution_count": null,
   "metadata": {},
   "outputs": [],
   "source": [
    "# Wir wollen Partitionen mit weniger als 10 Knoten rausschmeißen, sie füllen unnötig das Bild\n",
    "big_partition = partition\n",
    "small_partition_nodes = [node for node in big_partition if node not in bigcomm_g]\n",
    "\n",
    "for node in small_partition_nodes:\n",
    "    del big_partition[node]"
   ]
  },
  {
   "cell_type": "code",
   "execution_count": null,
   "metadata": {},
   "outputs": [],
   "source": [
    "positions = position_communities.community_layout(bigcomm_g, big_partition, 3)\n",
    "\n",
    "plt.figure(num=None, figsize=(60,60))\n",
    "nx.draw_networkx(bigcomm_g, pos=positions, node_size=50, with_labels=False, node_color=list(big_partition.values()))\n",
    "plt.savefig(\"partition.png\")"
   ]
  }
 ],
 "metadata": {
  "kernelspec": {
   "display_name": "Python 3",
   "language": "python",
   "name": "python3"
  },
  "language_info": {
   "codemirror_mode": {
    "name": "ipython",
    "version": 3
   },
   "file_extension": ".py",
   "mimetype": "text/x-python",
   "name": "python",
   "nbconvert_exporter": "python",
   "pygments_lexer": "ipython3",
   "version": "3.6.3"
  }
 },
 "nbformat": 4,
 "nbformat_minor": 2
}
