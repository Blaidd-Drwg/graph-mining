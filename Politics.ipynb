{
 "cells": [
  {
   "cell_type": "code",
   "execution_count": null,
   "metadata": {},
   "outputs": [],
   "source": [
    "import position_communities  # eigenes Skript\n",
    "\n",
    "import networkx as nx\n",
    "from csv import reader\n",
    "import matplotlib.pyplot as plt\n",
    "from statistics import median\n",
    "from collections import Counter\n",
    "from community import best_partition\n",
    "import radar\n",
    "import itertools\n",
    "import copy\n",
    "import numpy as np\n",
    "import math"
   ]
  },
  {
   "cell_type": "markdown",
   "metadata": {},
   "source": [
    "# Initialization"
   ]
  },
  {
   "cell_type": "code",
   "execution_count": null,
   "metadata": {},
   "outputs": [],
   "source": [
    "with open('nodes.csv', 'r') as f:\n",
    "    r = reader(f)\n",
    "    nodes = [n[0] for n in r]\n",
    "\n",
    "with open('edges.csv', 'r') as f:\n",
    "    r = reader(f)\n",
    "    edges_with_tags = list(r)"
   ]
  },
  {
   "cell_type": "code",
   "execution_count": null,
   "metadata": {},
   "outputs": [],
   "source": [
    "mdg = nx.MultiDiGraph()\n",
    "mdg.add_nodes_from(nodes)\n",
    "for tup in edges_with_tags:\n",
    "    src,dest = tup[:2]\n",
    "    tags = tup[2:]\n",
    "    mdg.add_edge(src, dest, tags=tags)  # Kanten bekommen die Tags der Frage zugewiesen\n",
    "mdg.remove_nodes_from(list(nx.isolates(mdg)))  # Nutzer entfernen, die keine Fragen/Antworten gepostet haben\n",
    "g = nx.Graph(mdg)  # Für Algos, die einen einfachen ungerichteten Graphen benötigen"
   ]
  },
  {
   "cell_type": "code",
   "execution_count": null,
   "metadata": {},
   "outputs": [],
   "source": [
    "components = sorted(nx.connected_components(g), key=len, reverse=True)\n",
    "big_component = components[0]\n",
    "print(len(components))\n",
    "print(len(big_component))  # Eine riesige Komponente\n",
    "len(components[1])  # Alle anderen sind winzig, können ignoriert werden"
   ]
  },
  {
   "cell_type": "code",
   "execution_count": null,
   "metadata": {
    "scrolled": false
   },
   "outputs": [],
   "source": [
    "connected_mdg = nx.subgraph(mdg, big_component)\n",
    "connected_g = nx.Graph(connected_mdg)\n",
    "# nx.diameter(subg)  # lange Laufzeit"
   ]
  },
  {
   "cell_type": "markdown",
   "metadata": {},
   "source": [
    "# General Stats"
   ]
  },
  {
   "cell_type": "code",
   "execution_count": null,
   "metadata": {},
   "outputs": [],
   "source": [
    "print(len(mdg.nodes))\n",
    "print(len(mdg.edges))"
   ]
  },
  {
   "cell_type": "code",
   "execution_count": null,
   "metadata": {},
   "outputs": [],
   "source": [
    "sorted_ans_degrees = sorted(dict(mdg.out_degree()).items(), key=lambda x: x[1], reverse=True)"
   ]
  },
  {
   "cell_type": "code",
   "execution_count": null,
   "metadata": {},
   "outputs": [],
   "source": [
    "sorted_qu_degrees = sorted(dict(mdg.in_degree()).items(), key=lambda x: x[1], reverse=True)"
   ]
  },
  {
   "cell_type": "code",
   "execution_count": null,
   "metadata": {},
   "outputs": [],
   "source": [
    "sorted_ans_degrees[:5]  # Nutzer mit den meisten Antworten"
   ]
  },
  {
   "cell_type": "code",
   "execution_count": null,
   "metadata": {},
   "outputs": [],
   "source": [
    "sorted_qu_degrees[:5]  # Nutzer, die die meisten Antworten bekommen haben"
   ]
  },
  {
   "cell_type": "code",
   "execution_count": null,
   "metadata": {},
   "outputs": [],
   "source": [
    "med_ans_degree = median([d for n,d in mdg.out_degree()])\n",
    "med_ans_degree"
   ]
  },
  {
   "cell_type": "code",
   "execution_count": null,
   "metadata": {},
   "outputs": [],
   "source": [
    "med_qu_degree = median([d for n,d in mdg.in_degree()])\n",
    "med_qu_degree  # Die meisten Nutzer registrieren sich nur, um eine Frage/Antwort zu geben"
   ]
  },
  {
   "cell_type": "code",
   "execution_count": null,
   "metadata": {},
   "outputs": [],
   "source": [
    "Counter([d for n,d in mdg.out_degree()])  # Verteilung der Nutzer, die x Antworten gegeben haben, könnte man plotten"
   ]
  },
  {
   "cell_type": "code",
   "execution_count": null,
   "metadata": {},
   "outputs": [],
   "source": [
    "ans_dict = dict(mdg.out_degree())\n",
    "items = list(ans_dict.items())\n",
    "users_who_never_answer = {user for user, degree in items if degree == 0}\n",
    "len(users_who_never_answer)"
   ]
  },
  {
   "cell_type": "code",
   "execution_count": null,
   "metadata": {},
   "outputs": [],
   "source": [
    "q_dict = dict(mdg.in_degree())\n",
    "items = list(q_dict.items())\n",
    "users_who_never_ask = {user for user, degree in items if degree == 0}\n",
    "len(users_who_never_ask)"
   ]
  },
  {
   "cell_type": "code",
   "execution_count": null,
   "metadata": {},
   "outputs": [],
   "source": [
    "casual_users = users_who_never_answer.union(users_who_never_ask)\n",
    "core_users = set(mdg.nodes).difference(casual_users)\n",
    "len(core_users)"
   ]
  },
  {
   "cell_type": "code",
   "execution_count": null,
   "metadata": {},
   "outputs": [],
   "source": [
    "core_user_graph = nx.subgraph(mdg, core_users)\n",
    "len(core_user_graph.edges)  # Antworten unter Cores"
   ]
  },
  {
   "cell_type": "code",
   "execution_count": null,
   "metadata": {},
   "outputs": [],
   "source": [
    "casual_user_graph = nx.subgraph(mdg, casual_users)\n",
    "len(casual_user_graph.edges)  # Antworten unter Casuals"
   ]
  },
  {
   "cell_type": "code",
   "execution_count": null,
   "metadata": {},
   "outputs": [],
   "source": [
    "users_who_answer = core_users.union(users_who_never_ask)\n",
    "answer_user_graph = nx.subgraph(mdg, users_who_answer)\n",
    "len(answer_user_graph.edges) - len(core_user_graph.edges)  # Antworten von Casuals an Cores"
   ]
  },
  {
   "cell_type": "code",
   "execution_count": null,
   "metadata": {},
   "outputs": [],
   "source": [
    "users_who_ask = core_users.union(users_who_never_answer)\n",
    "ask_user_graph = nx.subgraph(mdg, users_who_ask)\n",
    "len(ask_user_graph.edges) - len(core_user_graph.edges)  # Antworten von Cores an Casuals"
   ]
  },
  {
   "cell_type": "markdown",
   "metadata": {},
   "source": [
    "![](bowtie.png)\n",
    "Core and Casual user graph (simplified, to scale)"
   ]
  },
  {
   "cell_type": "code",
   "execution_count": null,
   "metadata": {},
   "outputs": [],
   "source": [
    "# sagt im Moment nicht viel aus\n",
    "user_degrees = [(mdg.out_degree([n])[n], mdg.in_degree([n])[n]) for n in mdg.nodes]\n",
    "ratios = [(t[0] or 1) / (t[1] or 1) for t in user_degrees]\n",
    "sorted(ratios, reverse=True)"
   ]
  },
  {
   "cell_type": "code",
   "execution_count": null,
   "metadata": {},
   "outputs": [],
   "source": [
    "# sagt im Moment nicht viel aus\n",
    "sorted(ratios)"
   ]
  },
  {
   "cell_type": "markdown",
   "metadata": {},
   "source": [
    "# Community Detection"
   ]
  },
  {
   "cell_type": "code",
   "execution_count": null,
   "metadata": {},
   "outputs": [],
   "source": [
    "partition = best_partition(connected_g)  # Partitionierung mit der größten Modularity\n",
    "communities = {}\n",
    "for node, community in partition.items():\n",
    "    if community in communities:\n",
    "        communities[community].add(node)\n",
    "    else:\n",
    "        communities[community] = {node}\n",
    "big_communities = {k: v for k, v in communities.items() if len(v) >= 10}"
   ]
  },
  {
   "cell_type": "code",
   "execution_count": null,
   "metadata": {},
   "outputs": [],
   "source": [
    "bigcomm_nodes = big_communities.values()\n",
    "bigcomm_nodes = list(itertools.chain(*bigcomm_nodes))  # flatten\n",
    "\n",
    "bigcomm_mdg = nx.subgraph(connected_mdg, bigcomm_nodes)\n",
    "bigcomm_g = nx.subgraph(connected_g, bigcomm_nodes)"
   ]
  },
  {
   "cell_type": "code",
   "execution_count": null,
   "metadata": {
    "scrolled": true
   },
   "outputs": [],
   "source": [
    "def tag_frequency(graph):  # Was sind die häufigsten Tags in einem Graphen?\n",
    "    all_tags = []\n",
    "    for src, dest in graph.edges():\n",
    "        all_tags += graph[src][dest]['tags']\n",
    "    tag_count = Counter(all_tags).most_common()\n",
    "    tag_frequency = {tag: 100* count / len(all_tags) for tag, count in tag_count}\n",
    "    return tag_frequency"
   ]
  },
  {
   "cell_type": "code",
   "execution_count": null,
   "metadata": {},
   "outputs": [],
   "source": [
    "def top_tags(graph):\n",
    "    freq = tag_frequency(graph)\n",
    "    keys = sorted(freq.keys(), key=lambda k: freq[k], reverse=True)\n",
    "    return [(tag, freq[tag]) for tag in keys]"
   ]
  },
  {
   "cell_type": "code",
   "execution_count": null,
   "metadata": {
    "scrolled": true
   },
   "outputs": [],
   "source": [
    "top_tags(g)[:10]"
   ]
  },
  {
   "cell_type": "code",
   "execution_count": null,
   "metadata": {},
   "outputs": [],
   "source": [
    "from collections import namedtuple\n",
    "RadarData = namedtuple('RadarData', ['title', 'label', 'values'])"
   ]
  },
  {
   "cell_type": "code",
   "execution_count": null,
   "metadata": {},
   "outputs": [],
   "source": [
    "N = 10\n",
    "global_tf = tag_frequency(g)\n",
    "common_tags = list(global_tf.keys())[:N]\n",
    "\n",
    "dataset = []\n",
    "\n",
    "for index, comm in enumerate(big_communities):\n",
    "    comm_g = nx.subgraph(bigcomm_g, communities[comm])\n",
    "    \n",
    "    tf = tag_frequency(comm_g)\n",
    "    tags = list(tf.keys())[:10]\n",
    "    \n",
    "    this_vals = [tf[tag] for tag in tags]\n",
    "    global_vals = [global_tf[tag] for tag in tags]\n",
    "    values = (this_vals, global_vals)\n",
    "\n",
    "\n",
    "    \n",
    "    dataset.append(RadarData(f'Community {comm}', tags, values))\n",
    "    #diff_dict = {key: tf[key] - global_tf.get(key, 0) for key in tf.keys()}\n",
    "    #print(diff_dict)"
   ]
  },
  {
   "cell_type": "code",
   "execution_count": null,
   "metadata": {},
   "outputs": [],
   "source": [
    "import radar\n",
    "\n",
    "theta = radar.radar_factory(N, frame='polygon')\n",
    "\n",
    "fig, axes = plt.subplots(figsize=(5, 120), nrows=math.ceil(len(big_communities)),\n",
    "                         subplot_kw=dict(projection='radar'))\n",
    "fig.subplots_adjust(top=1)\n",
    "\n",
    "colors = ['b', 'r', 'g', 'm', 'y']\n",
    "for ax, data in zip(axes.flatten(), dataset):\n",
    "    ax.set_thetagrids(np.degrees(theta), labels=data.label)\n",
    "    ax.set_rgrids([5, 10, 15, 20])\n",
    "    ax.set_title(data.title, weight='bold', size='medium', position=(0.5, 1.1),\n",
    "                 horizontalalignment='center', verticalalignment='center')\n",
    "    ax.plot(theta, data.values[0], color='r')\n",
    "    ax.fill(theta, data.values[0], facecolor='r', alpha=0.25)\n",
    "    ax.plot(theta, data.values[1], color='b')\n",
    "    ax.fill(theta, data.values[1], facecolor='b', alpha=0.25)\n",
    "\n",
    "# add legend relative to top-left plot\n",
    "#ax = axes[0, 0]\n",
    "#labels = ('Global', 'Community')\n",
    "#legend = ax.legend(labels, loc=(0.9, .95), labelspacing=0.1, fontsize='small')\n",
    "plt.show()\n",
    "plt.savefig('community_tags')"
   ]
  },
  {
   "cell_type": "markdown",
   "metadata": {},
   "source": [
    "# Drawing"
   ]
  },
  {
   "cell_type": "code",
   "execution_count": null,
   "metadata": {},
   "outputs": [],
   "source": [
    "# Wir wollen Partitionen mit weniger als 10 Knoten rausschmeißen, sie füllen unnötig das Bild\n",
    "small_partition_nodes = [node for node in partition if node not in bigcomm_g]\n",
    "\n",
    "big_partition = copy.deepcopy(partition)\n",
    "for node in small_partition_nodes:\n",
    "    del big_partition[node]"
   ]
  },
  {
   "cell_type": "code",
   "execution_count": null,
   "metadata": {},
   "outputs": [],
   "source": [
    "import matplotlib.patches as mpatches\n",
    "def colors(vals):\n",
    "    c = Counter(vals)\n",
    "    n = len(c)\n",
    "    part_mapping = {part: index for index, part in enumerate(c.keys())}\n",
    "    cmap = plt.cm.hsv\n",
    "    cols = [cmap(part_mapping[val] / n) for val in vals]\n",
    "    \n",
    "    legend_objs = []\n",
    "    for part in c.keys():\n",
    "        legend_objs.append(mpatches.Patch(color=cmap(part_mapping[part] / n), label=f'Community {part}'))\n",
    "    return cols, legend_objs"
   ]
  },
  {
   "cell_type": "code",
   "execution_count": null,
   "metadata": {},
   "outputs": [],
   "source": [
    "positions = position_communities.community_layout(bigcomm_g, big_partition, 3)\n",
    "\n",
    "\n",
    "plt.figure(num=None, figsize=(40,40))\n",
    "\n",
    "cols, legend_objs = colors(big_partition.values())\n",
    "plt.legend(handles=legend_objs, fontsize=40)\n",
    "nx.draw_networkx(bigcomm_g, pos=positions, node_size=20, width=0.4, with_labels=False, node_color=cols)\n",
    "plt.savefig(\"partition.png\")"
   ]
  }
 ],
 "metadata": {
  "kernelspec": {
   "display_name": "Python 3",
   "language": "python",
   "name": "python3"
  },
  "language_info": {
   "codemirror_mode": {
    "name": "ipython",
    "version": 3
   },
   "file_extension": ".py",
   "mimetype": "text/x-python",
   "name": "python",
   "nbconvert_exporter": "python",
   "pygments_lexer": "ipython3",
   "version": "3.6.3"
  }
 },
 "nbformat": 4,
 "nbformat_minor": 2
}
